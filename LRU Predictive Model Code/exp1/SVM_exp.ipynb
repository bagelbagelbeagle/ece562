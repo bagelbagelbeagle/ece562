{
 "cells": [
  {
   "cell_type": "code",
   "execution_count": 1,
   "id": "a3a275f9-b757-40cc-91e1-0f0cd968ca2e",
   "metadata": {},
   "outputs": [
    {
     "name": "stderr",
     "output_type": "stream",
     "text": [
      "C:\\Users\\15205\\AppData\\Local\\Temp\\ipykernel_14024\\286461137.py:8: FutureWarning: A value is trying to be set on a copy of a DataFrame or Series through chained assignment using an inplace method.\n",
      "The behavior will change in pandas 3.0. This inplace method will never work because the intermediate object on which we are setting values always behaves as a copy.\n",
      "\n",
      "For example, when doing 'df[col].method(value, inplace=True)', try using 'df.method({col: value}, inplace=True)' or df[col] = df[col].method(value) instead, to perform the operation inplace on the original object.\n",
      "\n",
      "\n",
      "  data['Access Type'].replace({'READ': 0, 'WRITE': 1}, inplace=True)\n",
      "C:\\Users\\15205\\AppData\\Local\\Temp\\ipykernel_14024\\286461137.py:8: FutureWarning: Downcasting behavior in `replace` is deprecated and will be removed in a future version. To retain the old behavior, explicitly call `result.infer_objects(copy=False)`. To opt-in to the future behavior, set `pd.set_option('future.no_silent_downcasting', True)`\n",
      "  data['Access Type'].replace({'READ': 0, 'WRITE': 1}, inplace=True)\n"
     ]
    },
    {
     "name": "stdout",
     "output_type": "stream",
     "text": [
      "Data has been split and saved successfully.\n"
     ]
    }
   ],
   "source": [
    "import pandas as pd\n",
    "from sklearn.model_selection import train_test_split\n",
    "\n",
    "# Load the dataset\n",
    "data = pd.read_csv(r'C:\\Users\\15205\\Desktop\\ECE562-experiment\\cache_access_data.csv')\n",
    "\n",
    "# Map 'READ' to 0 and 'WRITE' to 1 (adjust if necessary)\n",
    "data['Access Type'].replace({'READ': 0, 'WRITE': 1}, inplace=True)\n",
    "\n",
    "# Separate features and target variable\n",
    "X = data.drop(['Access Type'], axis=1)\n",
    "y = data['Access Type']\n",
    "\n",
    "# Split the data into training and test sets\n",
    "X_train, X_test, y_train, y_test = train_test_split(X, y, test_size=0.2, random_state=42)\n",
    "\n",
    "# Combine features and target for train and test sets\n",
    "train_data = pd.concat([X_train, y_train], axis=1)\n",
    "test_data = pd.concat([X_test, y_test], axis=1)\n",
    "\n",
    "# Save the train and test sets to separate CSV files\n",
    "train_data.to_csv(r'C:\\Users\\15205\\Desktop\\ECE562-experiment\\train_data.csv', index=False)\n",
    "test_data.to_csv(r'C:\\Users\\15205\\Desktop\\ECE562-experiment\\test_data.csv', index=False)\n",
    "\n",
    "print(\"Data has been split and saved successfully.\")"
   ]
  },
  {
   "cell_type": "code",
   "execution_count": 9,
   "id": "f7eb1906-ec79-4952-b330-b48ed739f866",
   "metadata": {},
   "outputs": [],
   "source": [
    " d_tr= pd.read_csv(r'C:\\Users\\15205\\Desktop\\ECE562-experiment\\train_data.csv')"
   ]
  },
  {
   "cell_type": "code",
   "execution_count": 52,
   "id": "6cfbe9fa-74a7-48c4-830a-b80bf952310b",
   "metadata": {},
   "outputs": [],
   "source": [
    "#d_tr= df.drop(columns=['id','proto', 'service','state'], axis=1)"
   ]
  },
  {
   "cell_type": "code",
   "execution_count": 10,
   "id": "a0ce6956-a0ae-4360-9b6e-7155667f14fe",
   "metadata": {},
   "outputs": [
    {
     "data": {
      "text/plain": [
       "array(['READ', 'WRITE'], dtype=object)"
      ]
     },
     "execution_count": 10,
     "metadata": {},
     "output_type": "execute_result"
    }
   ],
   "source": [
    "d_tr['Access Type'].unique()"
   ]
  },
  {
   "cell_type": "code",
   "execution_count": 13,
   "id": "46da928a-db93-4a1b-8638-5b07f77b22ba",
   "metadata": {},
   "outputs": [
    {
     "name": "stderr",
     "output_type": "stream",
     "text": [
      "C:\\Users\\15205\\AppData\\Local\\Temp\\ipykernel_18608\\2990833390.py:1: FutureWarning: A value is trying to be set on a copy of a DataFrame or Series through chained assignment using an inplace method.\n",
      "The behavior will change in pandas 3.0. This inplace method will never work because the intermediate object on which we are setting values always behaves as a copy.\n",
      "\n",
      "For example, when doing 'df[col].method(value, inplace=True)', try using 'df.method({col: value}, inplace=True)' or df[col] = df[col].method(value) instead, to perform the operation inplace on the original object.\n",
      "\n",
      "\n",
      "  d_tr['Access Type'].replace({'READ': 1,'WRITE' :2}, inplace=True)\n",
      "C:\\Users\\15205\\AppData\\Local\\Temp\\ipykernel_18608\\2990833390.py:1: FutureWarning: Downcasting behavior in `replace` is deprecated and will be removed in a future version. To retain the old behavior, explicitly call `result.infer_objects(copy=False)`. To opt-in to the future behavior, set `pd.set_option('future.no_silent_downcasting', True)`\n",
      "  d_tr['Access Type'].replace({'READ': 1,'WRITE' :2}, inplace=True)\n"
     ]
    }
   ],
   "source": [
    "d_tr['Access Type'].replace({'READ': 1,'WRITE' :2}, inplace=True)"
   ]
  },
  {
   "cell_type": "code",
   "execution_count": 14,
   "id": "88be1a8c-9116-4997-9ca8-44a3a3afd8a9",
   "metadata": {},
   "outputs": [
    {
     "data": {
      "text/html": [
       "<div>\n",
       "<style scoped>\n",
       "    .dataframe tbody tr th:only-of-type {\n",
       "        vertical-align: middle;\n",
       "    }\n",
       "\n",
       "    .dataframe tbody tr th {\n",
       "        vertical-align: top;\n",
       "    }\n",
       "\n",
       "    .dataframe thead th {\n",
       "        text-align: right;\n",
       "    }\n",
       "</style>\n",
       "<table border=\"1\" class=\"dataframe\">\n",
       "  <thead>\n",
       "    <tr style=\"text-align: right;\">\n",
       "      <th></th>\n",
       "      <th>PC</th>\n",
       "      <th>Memory Address</th>\n",
       "      <th>Cache Set</th>\n",
       "      <th>Access Type</th>\n",
       "      <th>Cycle Count</th>\n",
       "      <th>Time Since Last Access</th>\n",
       "      <th>Valid Status</th>\n",
       "      <th>Dirty Status</th>\n",
       "      <th>Cache Occupancy</th>\n",
       "      <th>Last Eviction Cycle</th>\n",
       "      <th>Hit/Miss</th>\n",
       "    </tr>\n",
       "  </thead>\n",
       "  <tbody>\n",
       "    <tr>\n",
       "      <th>0</th>\n",
       "      <td>4209655</td>\n",
       "      <td>13212416</td>\n",
       "      <td>1644</td>\n",
       "      <td>1</td>\n",
       "      <td>30344983</td>\n",
       "      <td>2372125</td>\n",
       "      <td>1</td>\n",
       "      <td>0</td>\n",
       "      <td>16</td>\n",
       "      <td>0</td>\n",
       "      <td>0</td>\n",
       "    </tr>\n",
       "    <tr>\n",
       "      <th>1</th>\n",
       "      <td>0</td>\n",
       "      <td>1234688</td>\n",
       "      <td>860</td>\n",
       "      <td>2</td>\n",
       "      <td>4099204</td>\n",
       "      <td>527645</td>\n",
       "      <td>1</td>\n",
       "      <td>0</td>\n",
       "      <td>16</td>\n",
       "      <td>0</td>\n",
       "      <td>1</td>\n",
       "    </tr>\n",
       "    <tr>\n",
       "      <th>2</th>\n",
       "      <td>4311459</td>\n",
       "      <td>9727104</td>\n",
       "      <td>434</td>\n",
       "      <td>1</td>\n",
       "      <td>52926494</td>\n",
       "      <td>1652141</td>\n",
       "      <td>1</td>\n",
       "      <td>0</td>\n",
       "      <td>16</td>\n",
       "      <td>0</td>\n",
       "      <td>0</td>\n",
       "    </tr>\n",
       "    <tr>\n",
       "      <th>3</th>\n",
       "      <td>0</td>\n",
       "      <td>1285184</td>\n",
       "      <td>1649</td>\n",
       "      <td>2</td>\n",
       "      <td>43488412</td>\n",
       "      <td>2952562</td>\n",
       "      <td>1</td>\n",
       "      <td>0</td>\n",
       "      <td>16</td>\n",
       "      <td>0</td>\n",
       "      <td>0</td>\n",
       "    </tr>\n",
       "    <tr>\n",
       "      <th>4</th>\n",
       "      <td>4311551</td>\n",
       "      <td>8868360</td>\n",
       "      <td>1352</td>\n",
       "      <td>1</td>\n",
       "      <td>57983150</td>\n",
       "      <td>2223530</td>\n",
       "      <td>1</td>\n",
       "      <td>0</td>\n",
       "      <td>16</td>\n",
       "      <td>0</td>\n",
       "      <td>0</td>\n",
       "    </tr>\n",
       "  </tbody>\n",
       "</table>\n",
       "</div>"
      ],
      "text/plain": [
       "        PC  Memory Address  Cache Set  Access Type  Cycle Count  \\\n",
       "0  4209655        13212416       1644            1     30344983   \n",
       "1        0         1234688        860            2      4099204   \n",
       "2  4311459         9727104        434            1     52926494   \n",
       "3        0         1285184       1649            2     43488412   \n",
       "4  4311551         8868360       1352            1     57983150   \n",
       "\n",
       "   Time Since Last Access  Valid Status  Dirty Status  Cache Occupancy  \\\n",
       "0                 2372125             1             0               16   \n",
       "1                  527645             1             0               16   \n",
       "2                 1652141             1             0               16   \n",
       "3                 2952562             1             0               16   \n",
       "4                 2223530             1             0               16   \n",
       "\n",
       "   Last Eviction Cycle  Hit/Miss  \n",
       "0                    0         0  \n",
       "1                    0         1  \n",
       "2                    0         0  \n",
       "3                    0         0  \n",
       "4                    0         0  "
      ]
     },
     "execution_count": 14,
     "metadata": {},
     "output_type": "execute_result"
    }
   ],
   "source": [
    "d_tr.head()"
   ]
  },
  {
   "cell_type": "code",
   "execution_count": 15,
   "id": "e6f6ba54-e150-494e-90b4-384a924d5da7",
   "metadata": {},
   "outputs": [],
   "source": [
    "df_test = pd.read_csv(r'C:\\Users\\15205\\Desktop\\ECE562-experiment\\test_data.csv')\n"
   ]
  },
  {
   "cell_type": "code",
   "execution_count": 16,
   "id": "c431df41-b119-4b2b-aecd-6a9268c56713",
   "metadata": {},
   "outputs": [
    {
     "data": {
      "text/html": [
       "<div>\n",
       "<style scoped>\n",
       "    .dataframe tbody tr th:only-of-type {\n",
       "        vertical-align: middle;\n",
       "    }\n",
       "\n",
       "    .dataframe tbody tr th {\n",
       "        vertical-align: top;\n",
       "    }\n",
       "\n",
       "    .dataframe thead th {\n",
       "        text-align: right;\n",
       "    }\n",
       "</style>\n",
       "<table border=\"1\" class=\"dataframe\">\n",
       "  <thead>\n",
       "    <tr style=\"text-align: right;\">\n",
       "      <th></th>\n",
       "      <th>PC</th>\n",
       "      <th>Memory Address</th>\n",
       "      <th>Cache Set</th>\n",
       "      <th>Access Type</th>\n",
       "      <th>Cycle Count</th>\n",
       "      <th>Time Since Last Access</th>\n",
       "      <th>Valid Status</th>\n",
       "      <th>Dirty Status</th>\n",
       "      <th>Cache Occupancy</th>\n",
       "      <th>Last Eviction Cycle</th>\n",
       "      <th>Hit/Miss</th>\n",
       "    </tr>\n",
       "  </thead>\n",
       "  <tbody>\n",
       "    <tr>\n",
       "      <th>0</th>\n",
       "      <td>4311510</td>\n",
       "      <td>9283968</td>\n",
       "      <td>1702</td>\n",
       "      <td>READ</td>\n",
       "      <td>58387257</td>\n",
       "      <td>1987728</td>\n",
       "      <td>1</td>\n",
       "      <td>0</td>\n",
       "      <td>16</td>\n",
       "      <td>0</td>\n",
       "      <td>0</td>\n",
       "    </tr>\n",
       "    <tr>\n",
       "      <th>1</th>\n",
       "      <td>4311510</td>\n",
       "      <td>9797828</td>\n",
       "      <td>1539</td>\n",
       "      <td>READ</td>\n",
       "      <td>69464897</td>\n",
       "      <td>1765362</td>\n",
       "      <td>1</td>\n",
       "      <td>0</td>\n",
       "      <td>16</td>\n",
       "      <td>0</td>\n",
       "      <td>0</td>\n",
       "    </tr>\n",
       "    <tr>\n",
       "      <th>2</th>\n",
       "      <td>4277926</td>\n",
       "      <td>1396248</td>\n",
       "      <td>1336</td>\n",
       "      <td>READ</td>\n",
       "      <td>67926610</td>\n",
       "      <td>3139398</td>\n",
       "      <td>1</td>\n",
       "      <td>0</td>\n",
       "      <td>16</td>\n",
       "      <td>0</td>\n",
       "      <td>0</td>\n",
       "    </tr>\n",
       "    <tr>\n",
       "      <th>3</th>\n",
       "      <td>4311551</td>\n",
       "      <td>9441248</td>\n",
       "      <td>63</td>\n",
       "      <td>READ</td>\n",
       "      <td>58547360</td>\n",
       "      <td>2111943</td>\n",
       "      <td>1</td>\n",
       "      <td>0</td>\n",
       "      <td>16</td>\n",
       "      <td>0</td>\n",
       "      <td>0</td>\n",
       "    </tr>\n",
       "    <tr>\n",
       "      <th>4</th>\n",
       "      <td>4209619</td>\n",
       "      <td>3305792</td>\n",
       "      <td>453</td>\n",
       "      <td>READ</td>\n",
       "      <td>50066839</td>\n",
       "      <td>2501294</td>\n",
       "      <td>1</td>\n",
       "      <td>0</td>\n",
       "      <td>16</td>\n",
       "      <td>0</td>\n",
       "      <td>0</td>\n",
       "    </tr>\n",
       "  </tbody>\n",
       "</table>\n",
       "</div>"
      ],
      "text/plain": [
       "        PC  Memory Address  Cache Set Access Type  Cycle Count  \\\n",
       "0  4311510         9283968       1702        READ     58387257   \n",
       "1  4311510         9797828       1539        READ     69464897   \n",
       "2  4277926         1396248       1336        READ     67926610   \n",
       "3  4311551         9441248         63        READ     58547360   \n",
       "4  4209619         3305792        453        READ     50066839   \n",
       "\n",
       "   Time Since Last Access  Valid Status  Dirty Status  Cache Occupancy  \\\n",
       "0                 1987728             1             0               16   \n",
       "1                 1765362             1             0               16   \n",
       "2                 3139398             1             0               16   \n",
       "3                 2111943             1             0               16   \n",
       "4                 2501294             1             0               16   \n",
       "\n",
       "   Last Eviction Cycle  Hit/Miss  \n",
       "0                    0         0  \n",
       "1                    0         0  \n",
       "2                    0         0  \n",
       "3                    0         0  \n",
       "4                    0         0  "
      ]
     },
     "execution_count": 16,
     "metadata": {},
     "output_type": "execute_result"
    }
   ],
   "source": [
    "df_test.head()\n"
   ]
  },
  {
   "cell_type": "code",
   "execution_count": 58,
   "id": "5f2736b9-a7bf-4e0c-8035-53a854e384e8",
   "metadata": {},
   "outputs": [],
   "source": [
    "#df_test= df_test.drop(columns=['id','proto', 'service','state'], axis=1)\n"
   ]
  },
  {
   "cell_type": "code",
   "execution_count": 18,
   "id": "9ed9b2a5-62a2-4fab-acd7-f762d874aba5",
   "metadata": {},
   "outputs": [
    {
     "data": {
      "text/plain": [
       "array(['READ', 'WRITE'], dtype=object)"
      ]
     },
     "execution_count": 18,
     "metadata": {},
     "output_type": "execute_result"
    }
   ],
   "source": [
    "df_test['Access Type'].unique()\n"
   ]
  },
  {
   "cell_type": "code",
   "execution_count": 19,
   "id": "37e4eca3-ed67-4dea-b70a-e4940c05186e",
   "metadata": {},
   "outputs": [
    {
     "name": "stderr",
     "output_type": "stream",
     "text": [
      "C:\\Users\\15205\\AppData\\Local\\Temp\\ipykernel_18608\\3887378201.py:1: FutureWarning: A value is trying to be set on a copy of a DataFrame or Series through chained assignment using an inplace method.\n",
      "The behavior will change in pandas 3.0. This inplace method will never work because the intermediate object on which we are setting values always behaves as a copy.\n",
      "\n",
      "For example, when doing 'df[col].method(value, inplace=True)', try using 'df.method({col: value}, inplace=True)' or df[col] = df[col].method(value) instead, to perform the operation inplace on the original object.\n",
      "\n",
      "\n",
      "  df_test['Access Type'].replace({'READ': 1,'WRITE' :2}, inplace=True)\n",
      "C:\\Users\\15205\\AppData\\Local\\Temp\\ipykernel_18608\\3887378201.py:1: FutureWarning: Downcasting behavior in `replace` is deprecated and will be removed in a future version. To retain the old behavior, explicitly call `result.infer_objects(copy=False)`. To opt-in to the future behavior, set `pd.set_option('future.no_silent_downcasting', True)`\n",
      "  df_test['Access Type'].replace({'READ': 1,'WRITE' :2}, inplace=True)\n"
     ]
    }
   ],
   "source": [
    "df_test['Access Type'].replace({'READ': 1,'WRITE' :2}, inplace=True)\n"
   ]
  },
  {
   "cell_type": "code",
   "execution_count": 20,
   "id": "f826ef1a-8cf4-4c34-8f53-376f01301607",
   "metadata": {},
   "outputs": [
    {
     "data": {
      "text/html": [
       "<div>\n",
       "<style scoped>\n",
       "    .dataframe tbody tr th:only-of-type {\n",
       "        vertical-align: middle;\n",
       "    }\n",
       "\n",
       "    .dataframe tbody tr th {\n",
       "        vertical-align: top;\n",
       "    }\n",
       "\n",
       "    .dataframe thead th {\n",
       "        text-align: right;\n",
       "    }\n",
       "</style>\n",
       "<table border=\"1\" class=\"dataframe\">\n",
       "  <thead>\n",
       "    <tr style=\"text-align: right;\">\n",
       "      <th></th>\n",
       "      <th>PC</th>\n",
       "      <th>Memory Address</th>\n",
       "      <th>Cache Set</th>\n",
       "      <th>Access Type</th>\n",
       "      <th>Cycle Count</th>\n",
       "      <th>Time Since Last Access</th>\n",
       "      <th>Valid Status</th>\n",
       "      <th>Dirty Status</th>\n",
       "      <th>Cache Occupancy</th>\n",
       "      <th>Last Eviction Cycle</th>\n",
       "      <th>Hit/Miss</th>\n",
       "    </tr>\n",
       "  </thead>\n",
       "  <tbody>\n",
       "    <tr>\n",
       "      <th>0</th>\n",
       "      <td>4311510</td>\n",
       "      <td>9283968</td>\n",
       "      <td>1702</td>\n",
       "      <td>1</td>\n",
       "      <td>58387257</td>\n",
       "      <td>1987728</td>\n",
       "      <td>1</td>\n",
       "      <td>0</td>\n",
       "      <td>16</td>\n",
       "      <td>0</td>\n",
       "      <td>0</td>\n",
       "    </tr>\n",
       "    <tr>\n",
       "      <th>1</th>\n",
       "      <td>4311510</td>\n",
       "      <td>9797828</td>\n",
       "      <td>1539</td>\n",
       "      <td>1</td>\n",
       "      <td>69464897</td>\n",
       "      <td>1765362</td>\n",
       "      <td>1</td>\n",
       "      <td>0</td>\n",
       "      <td>16</td>\n",
       "      <td>0</td>\n",
       "      <td>0</td>\n",
       "    </tr>\n",
       "    <tr>\n",
       "      <th>2</th>\n",
       "      <td>4277926</td>\n",
       "      <td>1396248</td>\n",
       "      <td>1336</td>\n",
       "      <td>1</td>\n",
       "      <td>67926610</td>\n",
       "      <td>3139398</td>\n",
       "      <td>1</td>\n",
       "      <td>0</td>\n",
       "      <td>16</td>\n",
       "      <td>0</td>\n",
       "      <td>0</td>\n",
       "    </tr>\n",
       "    <tr>\n",
       "      <th>3</th>\n",
       "      <td>4311551</td>\n",
       "      <td>9441248</td>\n",
       "      <td>63</td>\n",
       "      <td>1</td>\n",
       "      <td>58547360</td>\n",
       "      <td>2111943</td>\n",
       "      <td>1</td>\n",
       "      <td>0</td>\n",
       "      <td>16</td>\n",
       "      <td>0</td>\n",
       "      <td>0</td>\n",
       "    </tr>\n",
       "    <tr>\n",
       "      <th>4</th>\n",
       "      <td>4209619</td>\n",
       "      <td>3305792</td>\n",
       "      <td>453</td>\n",
       "      <td>1</td>\n",
       "      <td>50066839</td>\n",
       "      <td>2501294</td>\n",
       "      <td>1</td>\n",
       "      <td>0</td>\n",
       "      <td>16</td>\n",
       "      <td>0</td>\n",
       "      <td>0</td>\n",
       "    </tr>\n",
       "  </tbody>\n",
       "</table>\n",
       "</div>"
      ],
      "text/plain": [
       "        PC  Memory Address  Cache Set  Access Type  Cycle Count  \\\n",
       "0  4311510         9283968       1702            1     58387257   \n",
       "1  4311510         9797828       1539            1     69464897   \n",
       "2  4277926         1396248       1336            1     67926610   \n",
       "3  4311551         9441248         63            1     58547360   \n",
       "4  4209619         3305792        453            1     50066839   \n",
       "\n",
       "   Time Since Last Access  Valid Status  Dirty Status  Cache Occupancy  \\\n",
       "0                 1987728             1             0               16   \n",
       "1                 1765362             1             0               16   \n",
       "2                 3139398             1             0               16   \n",
       "3                 2111943             1             0               16   \n",
       "4                 2501294             1             0               16   \n",
       "\n",
       "   Last Eviction Cycle  Hit/Miss  \n",
       "0                    0         0  \n",
       "1                    0         0  \n",
       "2                    0         0  \n",
       "3                    0         0  \n",
       "4                    0         0  "
      ]
     },
     "execution_count": 20,
     "metadata": {},
     "output_type": "execute_result"
    }
   ],
   "source": [
    "df_test.head()"
   ]
  },
  {
   "cell_type": "code",
   "execution_count": 22,
   "id": "62ea7063-94a4-428b-9f63-9a43cbbf38fb",
   "metadata": {},
   "outputs": [
    {
     "name": "stdout",
     "output_type": "stream",
     "text": [
      "Accuracy: 99.7606%\n"
     ]
    }
   ],
   "source": [
    "\n",
    "\n",
    "\n",
    "scaler = StandardScaler()\n",
    "\n",
    "\n",
    "\n",
    "\n",
    "\n",
    "y_train = d_tr['Access Type']\n",
    "X_train = d_tr.drop(['Access Type'], axis=1)\n",
    "\n",
    "\n",
    "\n",
    "y_test = df_test['Access Type']\n",
    "X_test = df_test.drop(['Access Type'], axis=1)\n",
    "\n",
    "X_train_scaled = scaler.fit_transform(X_train)\n",
    "\n",
    "X_test_scaled = scaler.transform(X_test)\n",
    "\n",
    "\n",
    "model = SVC() \n",
    "\n",
    "\n",
    "model.fit(X_train_scaled, y_train)\n",
    "\n",
    "\n",
    "y_pred = model.predict(X_test_scaled)\n",
    "\n",
    "\n",
    "accuracy = accuracy_score(y_test, y_pred)\n",
    "print(f\"Accuracy: {accuracy * 100:.4f}%\")"
   ]
  },
  {
   "cell_type": "code",
   "execution_count": 23,
   "id": "5aa0e40b-99e8-43ba-8cef-47eeae709216",
   "metadata": {},
   "outputs": [],
   "source": [
    "from sklearn.metrics import accuracy_score, precision_score, recall_score\n",
    "from sklearn.metrics import confusion_matrix\n",
    "\n"
   ]
  },
  {
   "cell_type": "code",
   "execution_count": 24,
   "id": "6150d979-501e-495c-b387-24fc61546712",
   "metadata": {},
   "outputs": [
    {
     "name": "stdout",
     "output_type": "stream",
     "text": [
      "Confusion Matrix:\n",
      "[[197224    256]\n",
      " [   246  11989]]\n",
      "Precision: 0.9987542411505546\n",
      "Recall: 0.9987036661940449\n"
     ]
    }
   ],
   "source": [
    "conf_matrix = confusion_matrix(y_test, y_pred)\n",
    "\n",
    "precision = precision_score(y_test, y_pred)\n",
    "recall = recall_score(y_test, y_pred)\n",
    "\n",
    "print(\"Confusion Matrix:\")\n",
    "print(conf_matrix)\n",
    "print(\"Precision:\", precision)\n",
    "print(\"Recall:\", recall)"
   ]
  }
 ],
 "metadata": {
  "kernelspec": {
   "display_name": "Python 3 (ipykernel)",
   "language": "python",
   "name": "python3"
  },
  "language_info": {
   "codemirror_mode": {
    "name": "ipython",
    "version": 3
   },
   "file_extension": ".py",
   "mimetype": "text/x-python",
   "name": "python",
   "nbconvert_exporter": "python",
   "pygments_lexer": "ipython3",
   "version": "3.11.1"
  }
 },
 "nbformat": 4,
 "nbformat_minor": 5
}
