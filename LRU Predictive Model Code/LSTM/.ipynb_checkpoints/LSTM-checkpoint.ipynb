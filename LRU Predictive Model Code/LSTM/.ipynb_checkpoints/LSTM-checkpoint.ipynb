{
 "cells": [
  {
   "cell_type": "code",
   "execution_count": 54,
   "id": "a3a275f9-b757-40cc-91e1-0f0cd968ca2e",
   "metadata": {},
   "outputs": [],
   "source": [
    "import numpy as np\n",
    "import pandas as pd\n",
    "from sklearn.model_selection import train_test_split\n",
    "from sklearn.preprocessing import StandardScaler\n",
    "from sklearn.svm import SVC\n",
    "from sklearn.metrics import accuracy_score\n",
    "from sklearn.preprocessing import MinMaxScaler\n",
    "from sklearn.model_selection import train_test_split\n",
    "from art.estimators.classification.scikitlearn import ScikitlearnSVC\n",
    "from sklearn.svm import SVC\n",
    "from art.attacks.evasion import FastGradientMethod as FGM\n",
    "from art.utils import load_dataset\n",
    "\n",
    "from art.estimators.estimator import BaseEstimator as bse\n",
    "from art.estimators.estimator import LossGradientsMixin\n",
    "\n",
    "from art.attacks.evasion import DeepFool\n",
    "import numpy as np\n",
    "import pandas as pd\n",
    "import seaborn as sns\n",
    "import matplotlib.pyplot as plt\n",
    "from sklearn.preprocessing import MinMaxScaler\n",
    "\n",
    "from sklearn.preprocessing import StandardScaler\n",
    "from sklearn.svm import SVC\n",
    "from sklearn.metrics import accuracy_score"
   ]
  },
  {
   "cell_type": "code",
   "execution_count": 55,
   "id": "ba2c9f7f-f84d-4f51-abcc-e52a2150fb28",
   "metadata": {},
   "outputs": [],
   "source": [
    "#import pandas as pd\n",
    "#from sklearn.model_selection import train_test_split\n",
    "\n",
    "# Load the data\n",
    "#data = pd.read_csv('cache_access_data.csv')\n",
    "\n",
    "# Split the data into 80% training and 20% testing\n",
    "#train_data, test_data = train_test_split(data, test_size=0.2, random_state=42)\n",
    "\n",
    "# Save each dataset to its own CSV file\n",
    "#train_data.to_csv('train_dataset.csv', index=False)\n",
    "#test_data.to_csv('test_dataset.csv', index=False)"
   ]
  },
  {
   "cell_type": "code",
   "execution_count": 56,
   "id": "f7eb1906-ec79-4952-b330-b48ed739f866",
   "metadata": {},
   "outputs": [],
   "source": [
    " d_tr= pd.read_csv(r'C:\\Users\\15205\\Desktop\\ECE562-experiment\\exp 3\\train_dataset.csv')"
   ]
  },
  {
   "cell_type": "code",
   "execution_count": 57,
   "id": "226c85a2-ac48-4a7c-a7f7-ec9c5c5b06e7",
   "metadata": {},
   "outputs": [],
   "source": [
    "df_test = pd.read_csv(r'C:\\Users\\15205\\Desktop\\ECE562-experiment\\exp 3\\test_dataset.csv')\n"
   ]
  },
  {
   "cell_type": "code",
   "execution_count": 58,
   "id": "2afd5a74-877e-4efe-8a39-6795a0118006",
   "metadata": {},
   "outputs": [
    {
     "name": "stderr",
     "output_type": "stream",
     "text": [
      "C:\\Users\\15205\\AppData\\Local\\Temp\\ipykernel_1064\\976368005.py:1: FutureWarning: A value is trying to be set on a copy of a DataFrame or Series through chained assignment using an inplace method.\n",
      "The behavior will change in pandas 3.0. This inplace method will never work because the intermediate object on which we are setting values always behaves as a copy.\n",
      "\n",
      "For example, when doing 'df[col].method(value, inplace=True)', try using 'df.method({col: value}, inplace=True)' or df[col] = df[col].method(value) instead, to perform the operation inplace on the original object.\n",
      "\n",
      "\n",
      "  df_test['Hit/Miss'].replace({'READ': 0, 'WRITE': 1}, inplace=True)\n"
     ]
    }
   ],
   "source": [
    "df_test['Hit/Miss'].replace({'READ': 0, 'WRITE': 1}, inplace=True)"
   ]
  },
  {
   "cell_type": "code",
   "execution_count": 59,
   "id": "dee8c389-a4af-4584-b1fe-23aa2714a734",
   "metadata": {},
   "outputs": [
    {
     "name": "stderr",
     "output_type": "stream",
     "text": [
      "C:\\Users\\15205\\AppData\\Local\\Temp\\ipykernel_1064\\3896847342.py:1: FutureWarning: A value is trying to be set on a copy of a DataFrame or Series through chained assignment using an inplace method.\n",
      "The behavior will change in pandas 3.0. This inplace method will never work because the intermediate object on which we are setting values always behaves as a copy.\n",
      "\n",
      "For example, when doing 'df[col].method(value, inplace=True)', try using 'df.method({col: value}, inplace=True)' or df[col] = df[col].method(value) instead, to perform the operation inplace on the original object.\n",
      "\n",
      "\n",
      "  df_test['Access Type'].replace({'READ': 0, 'WRITE': 1}, inplace=True)\n"
     ]
    }
   ],
   "source": [
    "df_test['Access Type'].replace({'READ': 0, 'WRITE': 1}, inplace=True)"
   ]
  },
  {
   "cell_type": "code",
   "execution_count": 60,
   "id": "a0ce6956-a0ae-4360-9b6e-7155667f14fe",
   "metadata": {},
   "outputs": [
    {
     "name": "stderr",
     "output_type": "stream",
     "text": [
      "C:\\Users\\15205\\AppData\\Local\\Temp\\ipykernel_1064\\3344831892.py:1: FutureWarning: A value is trying to be set on a copy of a DataFrame or Series through chained assignment using an inplace method.\n",
      "The behavior will change in pandas 3.0. This inplace method will never work because the intermediate object on which we are setting values always behaves as a copy.\n",
      "\n",
      "For example, when doing 'df[col].method(value, inplace=True)', try using 'df.method({col: value}, inplace=True)' or df[col] = df[col].method(value) instead, to perform the operation inplace on the original object.\n",
      "\n",
      "\n",
      "  d_tr['Hit/Miss'].replace({'READ': 0, 'WRITE': 1}, inplace=True)\n"
     ]
    }
   ],
   "source": [
    "d_tr['Hit/Miss'].replace({'READ': 0, 'WRITE': 1}, inplace=True)"
   ]
  },
  {
   "cell_type": "code",
   "execution_count": 61,
   "id": "abde952b-e5ee-4a61-9dbc-c72fb15b4cd6",
   "metadata": {},
   "outputs": [
    {
     "name": "stderr",
     "output_type": "stream",
     "text": [
      "C:\\Users\\15205\\AppData\\Local\\Temp\\ipykernel_1064\\1753296085.py:1: FutureWarning: A value is trying to be set on a copy of a DataFrame or Series through chained assignment using an inplace method.\n",
      "The behavior will change in pandas 3.0. This inplace method will never work because the intermediate object on which we are setting values always behaves as a copy.\n",
      "\n",
      "For example, when doing 'df[col].method(value, inplace=True)', try using 'df.method({col: value}, inplace=True)' or df[col] = df[col].method(value) instead, to perform the operation inplace on the original object.\n",
      "\n",
      "\n",
      "  d_tr['Access Type'].replace({'READ': 0, 'WRITE': 1}, inplace=True)\n",
      "C:\\Users\\15205\\AppData\\Local\\Temp\\ipykernel_1064\\1753296085.py:1: FutureWarning: Downcasting behavior in `replace` is deprecated and will be removed in a future version. To retain the old behavior, explicitly call `result.infer_objects(copy=False)`. To opt-in to the future behavior, set `pd.set_option('future.no_silent_downcasting', True)`\n",
      "  d_tr['Access Type'].replace({'READ': 0, 'WRITE': 1}, inplace=True)\n"
     ]
    }
   ],
   "source": [
    "d_tr['Access Type'].replace({'READ': 0, 'WRITE': 1}, inplace=True)"
   ]
  },
  {
   "cell_type": "code",
   "execution_count": 62,
   "id": "7b4df8fa-77b2-4bb4-8d56-ec5db1047568",
   "metadata": {},
   "outputs": [],
   "source": [
    "X_train = d_tr.drop(columns=['Hit/Miss'])  # Replace 'target_column' with the name of your target variable\n",
    "y_train = d_tr['Hit/Miss']  # Replace with actual target variable name"
   ]
  },
  {
   "cell_type": "code",
   "execution_count": 63,
   "id": "d04566b8-20aa-4794-93c5-9201e08ec90e",
   "metadata": {},
   "outputs": [
    {
     "name": "stdout",
     "output_type": "stream",
     "text": [
      "Min values after scaling:\n",
      " Memory Address    0.0\n",
      "Cache Set         0.0\n",
      "Cycle Count       0.0\n",
      "Access Type       0.0\n",
      "dtype: float64\n",
      "Max values after scaling:\n",
      " Memory Address    1.0\n",
      "Cache Set         1.0\n",
      "Cycle Count       1.0\n",
      "Access Type       1.0\n",
      "dtype: float64\n"
     ]
    }
   ],
   "source": [
    "scaler = MinMaxScaler()\n",
    "X_train_normalized = scaler.fit_transform(X_train)\n",
    "\n",
    "# (Optional) Convert back to DataFrame for easier readability\n",
    "X_train_normalized = pd.DataFrame(X_train_normalized, columns=X_train.columns)\n",
    "\n",
    "# Verify the normalization by checking minimum and maximum values\n",
    "print(\"Min values after scaling:\\n\", X_train_normalized.min())\n",
    "print(\"Max values after scaling:\\n\", X_train_normalized.max())"
   ]
  },
  {
   "cell_type": "code",
   "execution_count": 64,
   "id": "0d732556-a877-4022-8731-a1f79b52ae1d",
   "metadata": {},
   "outputs": [
    {
     "data": {
      "image/png": "[encoded data removed]",
      "text/plain": [
       "<Figure size 1000x800 with 2 Axes>"
      ]
     },
     "metadata": {},
     "output_type": "display_data"
    }
   ],
   "source": [
    "X_train_normalized = pd.DataFrame(X_train_normalized, columns=X_train.columns)\n",
    "\n",
    "# Calculate the correlation matrix\n",
    "corr = X_train_normalized.corr()\n",
    "\n",
    "# Plot the heatmap\n",
    "plt.figure(figsize=(10, 8))\n",
    "sns.heatmap(corr, annot=True, cmap='coolwarm', fmt=\".2f\")\n",
    "plt.title(\"Correlation Plot of Normalized Training Data Features\")\n",
    "plt.show()"
   ]
  },
  {
   "cell_type": "code",
   "execution_count": 65,
   "id": "9ed9b2a5-62a2-4fab-acd7-f762d874aba5",
   "metadata": {},
   "outputs": [
    {
     "name": "stdout",
     "output_type": "stream",
     "text": [
      "Accuracy: 82.1670%\n"
     ]
    }
   ],
   "source": [
    "\n",
    "\n",
    "scaler = StandardScaler()\n",
    "\n",
    "\n",
    "\n",
    "\n",
    "\n",
    "y_train = d_tr['Hit/Miss']\n",
    "X_train = d_tr.drop(['Hit/Miss'], axis=1)\n",
    "\n",
    "\n",
    "\n",
    "y_test = df_test['Hit/Miss']\n",
    "X_test = df_test.drop(['Hit/Miss'], axis=1)\n",
    "\n",
    "X_train_scaled = scaler.fit_transform(X_train)\n",
    "\n",
    "X_test_scaled = scaler.transform(X_test)\n",
    "\n",
    "\n",
    "model = SVC() \n",
    "\n",
    "\n",
    "model.fit(X_train_scaled, y_train)\n",
    "\n",
    "\n",
    "y_pred = model.predict(X_test_scaled)\n",
    "\n",
    "\n",
    "accuracy = accuracy_score(y_test, y_pred)\n",
    "print(f\"Accuracy: {accuracy * 100:.4f}%\")\n"
   ]
  },
  {
   "cell_type": "code",
   "execution_count": 67,
   "id": "116ab524-fbef-46de-81c0-fe888e7e92ea",
   "metadata": {},
   "outputs": [
    {
     "name": "stdout",
     "output_type": "stream",
     "text": [
      "Accuracy: 82.1670%\n",
      "Confusion Matrix:\n",
      "[[ 15677  23032]\n",
      " [ 29610 226875]]\n",
      "Precision: 0.9078\n",
      "Recall: 0.8846\n"
     ]
    }
   ],
   "source": [
    "from sklearn.metrics import accuracy_score, confusion_matrix, precision_score, recall_score\n",
    "\n",
    "accuracy = accuracy_score(y_test, y_pred)\n",
    "conf_matrix = confusion_matrix(y_test, y_pred)\n",
    "precision = precision_score(y_test, y_pred)\n",
    "recall = recall_score(y_test, y_pred)\n",
    "\n",
    "print(f\"Accuracy: {accuracy * 100:.4f}%\")\n",
    "print(\"Confusion Matrix:\")\n",
    "print(conf_matrix)\n",
    "print(f\"Precision: {precision:.4f}\")\n",
    "print(f\"Recall: {recall:.4f}\")"
   ]
  },
  {
   "cell_type": "code",
   "execution_count": null,
   "id": "561b2f12-cec5-41b6-939b-ba66ae2c5bdb",
   "metadata": {},
   "outputs": [],
   "source": []
  }
 ],
 "metadata": {
  "kernelspec": {
   "display_name": "Python 3 (ipykernel)",
   "language": "python",
   "name": "python3"
  },
  "language_info": {
   "codemirror_mode": {
    "name": "ipython",
    "version": 3
   },
   "file_extension": ".py",
   "mimetype": "text/x-python",
   "name": "python",
   "nbconvert_exporter": "python",
   "pygments_lexer": "ipython3",
   "version": "3.11.1"
  }
 },
 "nbformat": 4,
 "nbformat_minor": 5
}
